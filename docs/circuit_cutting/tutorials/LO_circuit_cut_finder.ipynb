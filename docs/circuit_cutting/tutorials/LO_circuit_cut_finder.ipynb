{
 "cells": [
  {
   "cell_type": "code",
   "execution_count": null,
   "metadata": {},
   "outputs": [],
   "source": [
    "import numpy as np\n",
    "from circuit_knitting.cutting.cut_finding.circuit_interface import SimpleGateList\n",
    "from circuit_knitting.cutting.cut_finding.lo_cuts_optimizer import LOCutsOptimizer\n",
    "from circuit_knitting.cutting.cut_finding.optimization_settings import OptimizationSettings\n",
    "from circuit_knitting.cutting.cut_finding.quantum_device_constraints import DeviceConstraints"
   ]
  },
  {
   "cell_type": "markdown",
   "metadata": {},
   "source": [
    "## Cut finding for efficient SU(2) Circuit with linear entanglement"
   ]
  },
  {
   "cell_type": "markdown",
   "metadata": {},
   "source": [
    "### Visualize the circuit"
   ]
  },
  {
   "cell_type": "code",
   "execution_count": null,
   "metadata": {},
   "outputs": [],
   "source": [
    "from qiskit.circuit.library import EfficientSU2\n",
    "from circuit_knitting.cutting.cut_finding.utils import QCtoCCOCircuit\n",
    "\n",
    "qc = EfficientSU2(4, entanglement=\"linear\", reps=2).decompose()\n",
    "qc.assign_parameters([0.4] * len(qc.parameters), inplace=True)\n",
    "\n",
    "circuit_ckt=QCtoCCOCircuit(qc)\n",
    "\n",
    "qc.draw(\"mpl\", scale=0.8)\n",
    "\n",
    "\n"
   ]
  },
  {
   "cell_type": "markdown",
   "metadata": {},
   "source": [
    "### Perform cut finding"
   ]
  },
  {
   "cell_type": "code",
   "execution_count": null,
   "metadata": {},
   "outputs": [],
   "source": [
    "settings = OptimizationSettings(rand_seed = 12345)\n",
    "\n",
    "settings.setEngineSelection('CutOptimization', 'BestFirst')\n",
    "\n",
    "\n",
    "qubits_per_QPU=4\n",
    "num_QPUs=2\n",
    "\n",
    "\n",
    "\n",
    "for num_qpus in range(num_QPUs, 1, -1):\n",
    "    for qpu_qubits in range(qubits_per_QPU, 1, -1):\n",
    "        print(f'\\n\\n---------- {qpu_qubits} Qubits per QPU, {num_qpus} QPUs ----------')\n",
    "        \n",
    "        constraint_obj = DeviceConstraints(qubits_per_QPU = qpu_qubits, \n",
    "                                            num_QPUs       = num_QPUs)\n",
    "        \n",
    "        interface = SimpleGateList(circuit_ckt)\n",
    "\n",
    "        op = LOCutsOptimizer(interface, \n",
    "                        settings, \n",
    "                        constraint_obj)\n",
    "        \n",
    "        out = op.optimize()\n",
    "\n",
    "        print(' Gamma =', None if (out is None) else out.upperBoundGamma(),\n",
    "              ', Min_gamma_reached =', op.minimumReached())\n",
    "        if (out is not None):\n",
    "            out.print(simple=True)\n",
    "        else:\n",
    "            print(out)\n",
    "    \n",
    "        print('Subcircuits:', interface.exportSubcircuitsAsString(name_mapping='default'),'\\n')\n"
   ]
  },
  {
   "cell_type": "markdown",
   "metadata": {},
   "source": [
    "## Cut finding for 7 qubit circuit"
   ]
  },
  {
   "cell_type": "markdown",
   "metadata": {},
   "source": [
    "### Visualize the circuit"
   ]
  },
  {
   "cell_type": "code",
   "execution_count": null,
   "metadata": {},
   "outputs": [],
   "source": [
    "from qiskit import QuantumCircuit\n",
    "qc_0 = QuantumCircuit(7)\n",
    "for i in range(7):\n",
    "    qc_0.rx(np.pi / 4, i)\n",
    "qc_0.cx(0, 3)\n",
    "qc_0.cx(1, 3)\n",
    "qc_0.cx(2, 3)\n",
    "qc_0.cx(3, 4)\n",
    "qc_0.cx(3, 5)\n",
    "qc_0.cx(3, 6)\n",
    "\n",
    "qc_0.draw(\"mpl\")"
   ]
  },
  {
   "cell_type": "markdown",
   "metadata": {},
   "source": [
    "### Perform cut finding"
   ]
  },
  {
   "cell_type": "code",
   "execution_count": null,
   "metadata": {},
   "outputs": [],
   "source": [
    "from circuit_knitting.cutting.cut_finding.utils import QCtoCCOCircuit\n",
    "\n",
    "circuit_ckt_wirecut=QCtoCCOCircuit(qc_0)\n",
    "\n",
    "settings = OptimizationSettings(rand_seed = 12345)\n",
    "\n",
    "settings.setEngineSelection('CutOptimization', 'BestFirst')\n",
    "\n",
    "qubits_per_QPU=7\n",
    "num_QPUs=2\n",
    "\n",
    "\n",
    "\n",
    "for num_qpus in range(num_QPUs, 1, -1):\n",
    "    for qpu_qubits in range(qubits_per_QPU, 1, -1):\n",
    "        print(f'\\n\\n---------- {qpu_qubits} Qubits per QPU, {num_qpus} QPUs ----------')\n",
    "        \n",
    "        constraint_obj = DeviceConstraints(qubits_per_QPU = qpu_qubits, \n",
    "                                            num_QPUs       = num_QPUs)\n",
    "\n",
    "        interface = SimpleGateList(circuit_ckt_wirecut)\n",
    "        \n",
    "        op = LOCutsOptimizer(interface, \n",
    "                        settings, \n",
    "                        constraint_obj)\n",
    "        \n",
    "        out = op.optimize()\n",
    "\n",
    "        print(' Gamma =', None if (out is None) else out.upperBoundGamma(),\n",
    "              ', Min_gamma_reached =', op.minimumReached())\n",
    "        if (out is not None):\n",
    "            out.print(simple=True)\n",
    "        else:\n",
    "            print(out)\n",
    "\n",
    "        print('Subcircuits:', interface.exportSubcircuitsAsString(name_mapping='default'),'\\n')"
   ]
  }
 ],
 "metadata": {
  "kernelspec": {
   "display_name": "cco",
   "language": "python",
   "name": "python3"
  },
  "language_info": {
   "codemirror_mode": {
    "name": "ipython",
    "version": 3
   },
   "file_extension": ".py",
   "mimetype": "text/x-python",
   "name": "python",
   "nbconvert_exporter": "python",
   "pygments_lexer": "ipython3",
   "version": "3.9.6"
  }
 },
 "nbformat": 4,
 "nbformat_minor": 2
}
