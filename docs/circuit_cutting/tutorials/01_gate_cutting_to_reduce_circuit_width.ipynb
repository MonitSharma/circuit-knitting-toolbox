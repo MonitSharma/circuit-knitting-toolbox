{
 "cells": [
  {
   "cell_type": "markdown",
   "id": "421e2ffd",
   "metadata": {},
   "source": [
    "## Gate cutting to reduce circuit width"
   ]
  },
  {
   "cell_type": "code",
   "execution_count": 1,
   "id": "1e710888",
   "metadata": {},
   "outputs": [],
   "source": [
    "import numpy as np\n",
    "from qiskit.circuit.library import EfficientSU2\n",
    "from qiskit.quantum_info import PauliList"
   ]
  },
  {
   "cell_type": "markdown",
   "id": "4d3f35d9",
   "metadata": {},
   "source": [
    "Specify a circuit and some observables"
   ]
  },
  {
   "cell_type": "code",
   "execution_count": 2,
   "id": "96f5b72a",
   "metadata": {},
   "outputs": [],
   "source": [
    "circuit = EfficientSU2(4, entanglement=\"linear\", reps=2).decompose()\n",
    "circuit.assign_parameters([0.4] * len(circuit.parameters), inplace=True)\n",
    "\n",
    "circuit.draw(\"mpl\", scale=0.8)"
   ]
  },
  {
   "cell_type": "markdown",
   "id": "8638fdf1",
   "metadata": {},
   "source": [
    "### Specify some observables\n",
    "\n",
    "Currently, only `Pauli` observables with phase equal to 1 are supported. Full support for `SparsePauliOp` is expected in CKT v0.4.0."
   ]
  },
  {
   "cell_type": "code",
   "execution_count": 3,
   "id": "f75e8dd1",
   "metadata": {},
   "outputs": [],
   "source": [
    "observables = PauliList([\"ZZII\", \"IZZI\", \"IIZZ\", \"XIXI\", \"ZIZZ\", \"IXIX\"])"
   ]
  },
  {
   "cell_type": "markdown",
   "id": "65dd912e",
   "metadata": {},
   "source": [
    "Cut the circuit and observables by using `partition_problem` and specifying qubit partitions"
   ]
  },
  {
   "cell_type": "code",
   "execution_count": 3,
   "id": "30326299",
   "metadata": {},
   "outputs": [
    {
     "data": {
      "text/plain": [
       "('subcircuits', 'subexperiments', 'subobservables', 'weights', 'bases')"
      ]
     },
     "execution_count": 3,
     "metadata": {},
     "output_type": "execute_result"
    }
   ],
   "source": [
    "from circuit_knitting.cutting import partition_problem\n",
    "\n",
    "partitioned_problem = partition_problem(\n",
    "    circuit=circuit,\n",
    "    num_samples=np.inf,\n",
    "    observables=observables,\n",
    "    partition_labels=\"AABB\",\n",
    ")\n",
    "partitioned_problem._fields"
   ]
  },
  {
   "cell_type": "markdown",
   "id": "21efe337",
   "metadata": {},
   "source": [
    "Run the subexperiments for each partition using the Qiskit Aer Sampler primitive."
   ]
  },
  {
   "cell_type": "code",
   "execution_count": 4,
   "id": "7430eef1",
   "metadata": {},
   "outputs": [],
   "source": [
    "from qiskit_aer.primitives import Sampler\n",
    "\n",
    "# Set up Qiskit Aer Sampler primitives.\n",
    "sampler_a = Sampler(run_options={\"shots\": 2**12})\n",
    "sampler_b = Sampler(run_options={\"shots\": 2**12})\n",
    "\n",
    "# Retrieve results from each subexperiment\n",
    "results_a = sampler_a.run(partitioned_problem.subexperiments[\"A\"]).result()\n",
    "results_b = sampler_b.run(partitioned_problem.subexperiments[\"B\"]).result()"
   ]
  },
  {
   "cell_type": "markdown",
   "id": "26682208",
   "metadata": {},
   "source": [
    "To run using Qiskit Runtime Sampler primitive, replace the code above with this commented block."
   ]
  },
  {
   "cell_type": "code",
   "execution_count": 5,
   "id": "008d7319",
   "metadata": {},
   "outputs": [],
   "source": [
    "# from qiskit_ibm_runtime import Session, Options, Sampler\n",
    "\n",
    "# with Session(backend=\"ibmq_qasm_simulator\") as session:\n",
    "#    options = Options()\n",
    "#    options.execution.shots = 2**14\n",
    "#    sampler_a = Sampler(options=options)\n",
    "#    sampler_b = Sampler(options=options)\n",
    "\n",
    "#    job_a = sampler_a.run(partitioned_problem.subexperiments[\"A\"])\n",
    "#    job_b = sampler_b.run(partitioned_problem.subexperiments[\"B\"])\n",
    "\n",
    "#    results_a = job_a.result()\n",
    "#    results_b = job_b.result()\n",
    "\n",
    "#    session.close()"
   ]
  },
  {
   "cell_type": "markdown",
   "id": "d0816c10",
   "metadata": {},
   "source": [
    "Reconstruct the full expectation value, given the results of cutting"
   ]
  },
  {
   "cell_type": "code",
   "execution_count": 6,
   "id": "7d57339c",
   "metadata": {},
   "outputs": [
    {
     "data": {
      "text/plain": [
       "[0.3848624825477599,\n",
       " 0.510217249393463,\n",
       " 0.5903419256210325,\n",
       " 0.11537766456604004,\n",
       " 0.31011974811553944,\n",
       " -0.12901473045349124]"
      ]
     },
     "execution_count": 6,
     "metadata": {},
     "output_type": "execute_result"
    }
   ],
   "source": [
    "from circuit_knitting.cutting import reconstruct_expectation_values\n",
    "\n",
    "# Include the number of bits used for cutting measurements in the results\n",
    "for i in range(len(partitioned_problem.subexperiments[\"A\"])):\n",
    "    results_a.metadata[i][\"num_qpd_bits\"] = len(\n",
    "        partitioned_problem.subexperiments[\"A\"][i].cregs[0]\n",
    "    )\n",
    "for i in range(len(partitioned_problem.subexperiments[\"B\"])):\n",
    "    results_b.metadata[i][\"num_qpd_bits\"] = len(\n",
    "        partitioned_problem.subexperiments[\"B\"][i].cregs[0]\n",
    "    )\n",
    "\n",
    "# Combine results from each partition into a single results dictionary\n",
    "results = {\"A\": results_a, \"B\": results_b}\n",
    "\n",
    "simulated_expvals = reconstruct_expectation_values(\n",
    "    partitioned_problem.subobservables,\n",
    "    partitioned_problem.weights,\n",
    "    results,\n",
    ")\n",
    "simulated_expvals"
   ]
  }
 ],
 "metadata": {
  "kernelspec": {
   "display_name": "Python 3 (ipykernel)",
   "language": "python",
   "name": "python3"
  },
  "language_info": {
   "codemirror_mode": {
    "name": "ipython",
    "version": 3
   },
   "file_extension": ".py",
   "mimetype": "text/x-python",
   "name": "python",
   "nbconvert_exporter": "python",
   "pygments_lexer": "ipython3",
   "version": "3.8.16"
  }
 },
 "nbformat": 4,
 "nbformat_minor": 5
}
