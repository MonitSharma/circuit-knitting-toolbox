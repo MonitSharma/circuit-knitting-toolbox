{
 "cells": [
  {
   "cell_type": "code",
   "execution_count": 1,
   "id": "1e710888",
   "metadata": {},
   "outputs": [],
   "source": [
    "import numpy as np\n",
    "from qiskit.circuit.library import EfficientSU2\n",
    "from qiskit.quantum_info import PauliList\n",
    "from qiskit_aer.primitives import Estimator, Sampler\n",
    "\n",
    "from circuit_knitting.cutting import (\n",
    "    partition_problem,\n",
    "    reconstruct_expectation_values,\n",
    ")"
   ]
  },
  {
   "cell_type": "code",
   "execution_count": 2,
   "id": "96f5b72a",
   "metadata": {},
   "outputs": [],
   "source": [
    "circuit = EfficientSU2(4, entanglement=\"linear\", reps=2).decompose()\n",
    "circuit.assign_parameters([0.8] * len(circuit.parameters), inplace=True)\n",
    "observables = PauliList([\"ZZII\", \"IZZI\", \"IIZZ\", \"XIXI\", \"ZIZZ\", \"IXIX\"])"
   ]
  },
  {
   "cell_type": "code",
   "execution_count": 3,
   "id": "30326299",
   "metadata": {},
   "outputs": [],
   "source": [
    "partitioned_problem = partition_problem(\n",
    "    circuit=circuit,\n",
    "    partition_labels=\"AABB\",\n",
    "    num_samples=np.inf,\n",
    "    observables=observables,\n",
    ")\n",
    "partitioned_problem._fields"
   ]
  },
  {
   "cell_type": "code",
   "execution_count": 10,
   "id": "090c3c93",
   "metadata": {},
   "outputs": [
    {
     "data": {
      "text/plain": [
       "dict_keys(['A', 'B'])"
      ]
     },
     "execution_count": 10,
     "metadata": {},
     "output_type": "execute_result"
    }
   ],
   "source": [
    "partitioned_problem.subexperiments.keys()"
   ]
  },
  {
   "cell_type": "code",
   "execution_count": 4,
   "id": "7430eef1",
   "metadata": {},
   "outputs": [],
   "source": [
    "from circuit_knitting.utils.simulation import ExactSampler\n",
    "sampler_a = ExactSampler()\n",
    "sampler_b = ExactSampler()\n",
    "\n",
    "quasi_dists_a = (\n",
    "    sampler_a.run(partitioned_problem.subexperiments[\"A\"]).result().quasi_dists\n",
    ")\n",
    "quasi_dists_b = (\n",
    "    sampler_b.run(partitioned_problem.subexperiments[\"B\"]).result().quasi_dists\n",
    ")"
   ]
  },
  {
   "cell_type": "code",
   "execution_count": 5,
   "id": "7d57339c",
   "metadata": {},
   "outputs": [],
   "source": [
    "quasi_dists = {\"A\": quasi_dists_a, \"B\": quasi_dists_b}\n",
    "simulated_expvals = reconstruct_expectation_values(\n",
    "    partitioned_problem,\n",
    "    quasi_dists,\n",
    ")"
   ]
  },
  {
   "cell_type": "code",
   "execution_count": 6,
   "id": "e3385ba5",
   "metadata": {},
   "outputs": [
    {
     "name": "stdout",
     "output_type": "stream",
     "text": [
      "Simulated expectation values: [0.17153613, 0.1815846, 0.30958691, 0.44036036, 0.08173037, 0.70623815]\n",
      "Exact expectation values: [0.17153613, 0.1815846, 0.30958691, 0.44036036, 0.08173037, 0.70623815]\n",
      "Errors in estimation: [-0.0, 0.0, 0.0, -0.0, 0.0, 0.0]\n",
      "Relative errors in estimation: [-0.0, 0.0, 0.0, -0.0, 0.0, 0.0]\n"
     ]
    }
   ],
   "source": [
    "estimator = Estimator(run_options={\"shots\": None}, approximation=True)\n",
    "exact_expvals = (\n",
    "    estimator.run([circuit] * len(observables), list(observables)).result().values\n",
    ")\n",
    "print(\n",
    "    f\"Simulated expectation values: {[np.round(simulated_expvals[i], 8) for i in range(len(exact_expvals))]}\"\n",
    ")\n",
    "print(\n",
    "    f\"Exact expectation values: {[np.round(exact_expvals[i], 8) for i in range(len(exact_expvals))]}\"\n",
    ")\n",
    "print(\n",
    "    f\"Errors in estimation: {[np.round(simulated_expvals[i]-exact_expvals[i], 8) for i in range(len(exact_expvals))]}\"\n",
    ")\n",
    "print(\n",
    "    f\"Relative errors in estimation: {[np.round((simulated_expvals[i]-exact_expvals[i]) / exact_expvals[i], 8) for i in range(len(exact_expvals))]}\"\n",
    ")"
   ]
  }
 ],
 "metadata": {
  "kernelspec": {
   "display_name": "Python 3 (ipykernel)",
   "language": "python",
   "name": "python3"
  },
  "language_info": {
   "codemirror_mode": {
    "name": "ipython",
    "version": 3
   },
   "file_extension": ".py",
   "mimetype": "text/x-python",
   "name": "python",
   "nbconvert_exporter": "python",
   "pygments_lexer": "ipython3",
   "version": "3.8.16"
  }
 },
 "nbformat": 4,
 "nbformat_minor": 5
}
