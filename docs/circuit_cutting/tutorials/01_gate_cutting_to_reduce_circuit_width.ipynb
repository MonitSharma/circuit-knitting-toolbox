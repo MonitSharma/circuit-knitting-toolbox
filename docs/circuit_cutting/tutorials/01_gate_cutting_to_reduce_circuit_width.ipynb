{
 "cells": [
  {
   "cell_type": "markdown",
   "id": "421e2ffd",
   "metadata": {},
   "source": [
    "## Gate cutting to reduce circuit width"
   ]
  },
  {
   "cell_type": "code",
   "execution_count": 1,
   "id": "1e710888",
   "metadata": {},
   "outputs": [],
   "source": [
    "import numpy as np\n",
    "from qiskit.circuit.library import EfficientSU2\n",
    "from qiskit.quantum_info import PauliList"
   ]
  },
  {
   "cell_type": "markdown",
   "id": "4d3f35d9",
   "metadata": {},
   "source": [
    "Specify a circuit and some observables"
   ]
  },
  {
   "cell_type": "code",
   "execution_count": 2,
   "id": "96f5b72a",
   "metadata": {},
   "outputs": [],
   "source": [
    "circuit = EfficientSU2(4, entanglement=\"linear\", reps=2).decompose()\n",
    "circuit.assign_parameters([0.4] * len(circuit.parameters), inplace=True)\n",
    "observables = PauliList([\"ZZII\", \"IZZI\", \"IIZZ\", \"XIXI\", \"ZIZZ\", \"IXIX\"])"
   ]
  },
  {
   "cell_type": "markdown",
   "id": "65dd912e",
   "metadata": {},
   "source": [
    "Cut the circuit and observables by using `partition_problem` and specifying qubit partitions"
   ]
  },
  {
   "cell_type": "code",
   "execution_count": 3,
   "id": "30326299",
   "metadata": {},
   "outputs": [
    {
     "data": {
      "text/plain": [
       "('subcircuits', 'subexperiments', 'subobservables', 'weights', 'bases')"
      ]
     },
     "execution_count": 3,
     "metadata": {},
     "output_type": "execute_result"
    }
   ],
   "source": [
    "from circuit_knitting.cutting import partition_problem\n",
    "\n",
    "partitioned_problem = partition_problem(\n",
    "    circuit=circuit,\n",
    "    partition_labels=\"AABB\",\n",
    "    num_samples=np.inf,\n",
    "    observables=observables,\n",
    ")\n",
    "partitioned_problem._fields"
   ]
  },
  {
   "cell_type": "markdown",
   "id": "21efe337",
   "metadata": {},
   "source": [
    "Run the subexperiments for each partition using the Qiskit Aer primitives."
   ]
  },
  {
   "cell_type": "code",
   "execution_count": 4,
   "id": "7430eef1",
   "metadata": {},
   "outputs": [],
   "source": [
    "from qiskit_aer.primitives import Sampler\n",
    "\n",
    "# Set up Qiskit Aer Sampler primitives.\n",
    "sampler_a = Sampler(run_options={\"shots\": 2**12})\n",
    "sampler_b = Sampler(run_options={\"shots\": 2**12})\n",
    "\n",
    "# Retrieve the quasi-probability distributions for each subexperiment\n",
    "results_a = (\n",
    "    sampler_a.run(partitioned_problem.subexperiments[\"A\"]).result()\n",
    ")\n",
    "results_b = (\n",
    "    sampler_b.run(partitioned_problem.subexperiments[\"B\"]).result()\n",
    ")"
   ]
  },
  {
   "cell_type": "markdown",
   "id": "b4a5579c",
   "metadata": {},
   "source": [
    "Prepare the results objects for reconstruction.\n",
    "\n",
    "Include the number of clbits used for QPD measurements in each partition as metadata. This will be needed during reconstruction."
   ]
  },
  {
   "cell_type": "code",
   "execution_count": 5,
   "id": "9af7ce4e",
   "metadata": {},
   "outputs": [],
   "source": [
    "for i in range(len(results_a.metadata)):\n",
    "    results_a.metadata[i]['num_qpd_bits'] = len(partitioned_problem.subexperiments[\"A\"][i].cregs[0])\n",
    "for i in range(len(results_b.metadata)):\n",
    "    results_b.metadata[i]['num_qpd_bits'] = len(partitioned_problem.subexperiments[\"B\"][i].cregs[0])\n",
    "\n",
    "results = {\"A\": results_a, \"B\": results_b}"
   ]
  },
  {
   "cell_type": "markdown",
   "id": "26682208",
   "metadata": {},
   "source": [
    "To run using Qiskit Runtime primitives, rather than Qiskit Aer, replace the code above with this commented block."
   ]
  },
  {
   "cell_type": "code",
   "execution_count": 6,
   "id": "008d7319",
   "metadata": {},
   "outputs": [],
   "source": [
    "#from qiskit_ibm_runtime import Session, Options, Sampler\n",
    "\n",
    "#with Session(backend=\"ibmq_qasm_simulator\") as session:\n",
    "#    options = Options()\n",
    "#    options.execution.shots = 2**14\n",
    "#    sampler_a = Sampler(options=options)\n",
    "#    sampler_b = Sampler(options=options)\n",
    "\n",
    "#    job_a = sampler_a.run(partitioned_problem.subexperiments[\"A\"])\n",
    "#    job_b = sampler_b.run(partitioned_problem.subexperiments[\"B\"])\n",
    "\n",
    "#    quasi_dists_a = job_a.result()\n",
    "#    quasi_dists_b = job_b.result()\n",
    "\n",
    "#    session.close()"
   ]
  },
  {
   "cell_type": "markdown",
   "id": "d0816c10",
   "metadata": {},
   "source": [
    "Reconstruct the full expectation value, given the results of cutting"
   ]
  },
  {
   "cell_type": "code",
   "execution_count": 7,
   "id": "7d57339c",
   "metadata": {},
   "outputs": [
    {
     "data": {
      "text/plain": [
       "[0.3804730176925658,\n",
       " 0.5288630723953246,\n",
       " 0.5727139711380003,\n",
       " 0.11992454528808594,\n",
       " 0.3004816770553588,\n",
       " -0.1273291707038879]"
      ]
     },
     "execution_count": 7,
     "metadata": {},
     "output_type": "execute_result"
    }
   ],
   "source": [
    "from circuit_knitting.cutting import reconstruct_expectation_values\n",
    "\n",
    "simulated_expvals = reconstruct_expectation_values(\n",
    "    partitioned_problem.subobservables,\n",
    "    partitioned_problem.weights,\n",
    "    results,\n",
    ")\n",
    "simulated_expvals"
   ]
  },
  {
   "cell_type": "code",
   "execution_count": 8,
   "id": "1faa748e",
   "metadata": {},
   "outputs": [
    {
     "data": {
      "text/html": [
       "<h3>Version Information</h3><table><tr><th>Qiskit Software</th><th>Version</th></tr><tr><td><code>qiskit-terra</code></td><td>0.24.1</td></tr><tr><td><code>qiskit-aer</code></td><td>0.12.1</td></tr><tr><td><code>qiskit-ibmq-provider</code></td><td>0.20.2</td></tr><tr><td><code>qiskit</code></td><td>0.43.2</td></tr><tr><td><code>qiskit-nature</code></td><td>0.6.0</td></tr><tr><th>System information</th></tr><tr><td>Python version</td><td>3.8.16</td></tr><tr><td>Python compiler</td><td>Clang 14.0.6 </td></tr><tr><td>Python build</td><td>default, Mar  1 2023 21:19:10</td></tr><tr><td>OS</td><td>Darwin</td></tr><tr><td>CPUs</td><td>8</td></tr><tr><td>Memory (Gb)</td><td>32.0</td></tr><tr><td colspan='2'>Wed Aug 16 13:04:31 2023 CDT</td></tr></table>"
      ],
      "text/plain": [
       "<IPython.core.display.HTML object>"
      ]
     },
     "metadata": {},
     "output_type": "display_data"
    }
   ],
   "source": [
    "import qiskit.tools.jupyter  # noqa: F401\n",
    "\n",
    "%qiskit_version_table"
   ]
  }
 ],
 "metadata": {
  "kernelspec": {
   "display_name": "Python 3 (ipykernel)",
   "language": "python",
   "name": "python3"
  },
  "language_info": {
   "codemirror_mode": {
    "name": "ipython",
    "version": 3
   },
   "file_extension": ".py",
   "mimetype": "text/x-python",
   "name": "python",
   "nbconvert_exporter": "python",
   "pygments_lexer": "ipython3",
   "version": "3.8.16"
  }
 },
 "nbformat": 4,
 "nbformat_minor": 5
}
