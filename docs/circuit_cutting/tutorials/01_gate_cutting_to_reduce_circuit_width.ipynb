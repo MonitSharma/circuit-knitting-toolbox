{
 "cells": [
  {
   "cell_type": "markdown",
   "id": "421e2ffd",
   "metadata": {},
   "source": [
    "## Gate cutting to reduce circuit width"
   ]
  },
  {
   "cell_type": "code",
   "execution_count": 1,
   "id": "1e710888",
   "metadata": {},
   "outputs": [],
   "source": [
    "import numpy as np\n",
    "from qiskit.circuit.library import EfficientSU2\n",
    "from qiskit.quantum_info import PauliList\n",
    "from qiskit_aer.primitives import Sampler\n",
    "\n",
    "from circuit_knitting.cutting import partition_problem, reconstruct_expectation_values"
   ]
  },
  {
   "cell_type": "markdown",
   "id": "4d3f35d9",
   "metadata": {},
   "source": [
    "Specify a circuit and some observables"
   ]
  },
  {
   "cell_type": "code",
   "execution_count": 2,
   "id": "96f5b72a",
   "metadata": {},
   "outputs": [],
   "source": [
    "circuit = EfficientSU2(4, entanglement=\"linear\", reps=2).decompose()\n",
    "circuit.assign_parameters([0.4] * len(circuit.parameters), inplace=True)\n",
    "observables = PauliList([\"ZZII\", \"IZZI\", \"IIZZ\", \"XIXI\", \"ZIZZ\", \"IXIX\"])"
   ]
  },
  {
   "cell_type": "markdown",
   "id": "65dd912e",
   "metadata": {},
   "source": [
    "Cut the circuit and observables by using `partition_problem` and specifying qubit partitions"
   ]
  },
  {
   "cell_type": "code",
   "execution_count": 3,
   "id": "30326299",
   "metadata": {},
   "outputs": [
    {
     "data": {
      "text/plain": [
       "('subcircuits', 'subexperiments', 'weights', 'bases', 'subobservables')"
      ]
     },
     "execution_count": 3,
     "metadata": {},
     "output_type": "execute_result"
    }
   ],
   "source": [
    "partitioned_problem = partition_problem(\n",
    "    circuit=circuit,\n",
    "    partition_labels=\"AABB\",\n",
    "    num_samples=np.inf,\n",
    "    observables=observables,\n",
    ")\n",
    "partitioned_problem._fields"
   ]
  },
  {
   "cell_type": "markdown",
   "id": "21efe337",
   "metadata": {},
   "source": [
    "Run the subexperiments for each partition using the Qiskit Aer primitives."
   ]
  },
  {
   "cell_type": "code",
   "execution_count": 4,
   "id": "7430eef1",
   "metadata": {},
   "outputs": [],
   "source": [
    "# Set up Qiskit Aer Sampler primitives.\n",
    "sampler_a = Sampler(run_options={\"shots\": 2**12})\n",
    "sampler_b = Sampler(run_options={\"shots\": 2**12})\n",
    "\n",
    "# Retrieve the quasi-probability distributions for each subexperiment\n",
    "quasi_dists_a = (\n",
    "    sampler_a.run(partitioned_problem.subexperiments[\"A\"]).result().quasi_dists\n",
    ")\n",
    "quasi_dists_b = (\n",
    "    sampler_b.run(partitioned_problem.subexperiments[\"B\"]).result().quasi_dists\n",
    ")"
   ]
  },
  {
   "cell_type": "markdown",
   "id": "26682208",
   "metadata": {},
   "source": [
    "To run using Qiskit Runtime primitives, rather than Qiskit Aer, replace the code above with this commented block."
   ]
  },
  {
   "cell_type": "code",
   "execution_count": 5,
   "id": "008d7319",
   "metadata": {},
   "outputs": [],
   "source": [
    "# from qiskit_ibm_runtime import Session, Options, Sampler\n",
    "\n",
    "# with Session(backend=\"<BACKEND_NAME>\") as session:\n",
    "#    options = Options()\n",
    "#    options.execution.shots = 2**14\n",
    "#    sampler_a = Sampler(options=options)\n",
    "#    sampler_b = Sampler(options=options)\n",
    "\n",
    "#    job_a = sampler_a.run(partitioned_problem.subexperiments[\"A\"])\n",
    "#    job_b = sampler_b.run(partitioned_problem.subexperiments[\"B\"])\n",
    "\n",
    "#    quasi_dists_a = job_a.result().quasi_dists\n",
    "#    quasi_dists_b = job_b.result().quasi_dists\n",
    "\n",
    "#    session.close()"
   ]
  },
  {
   "cell_type": "markdown",
   "id": "d0816c10",
   "metadata": {},
   "source": [
    "Reconstruct the full expectation value, given the results of cutting"
   ]
  },
  {
   "cell_type": "code",
   "execution_count": 6,
   "id": "7d57339c",
   "metadata": {},
   "outputs": [
    {
     "data": {
      "text/plain": [
       "[0.3190186619758605,\n",
       " 0.5264472365379331,\n",
       " 0.5636612176895139,\n",
       " 0.11103600263595576,\n",
       " 0.2603829503059386,\n",
       " -0.1568573713302612]"
      ]
     },
     "execution_count": 6,
     "metadata": {},
     "output_type": "execute_result"
    }
   ],
   "source": [
    "quasi_dists = {\"A\": quasi_dists_a, \"B\": quasi_dists_b}\n",
    "simulated_expvals = reconstruct_expectation_values(\n",
    "    partitioned_problem.subexperiments,\n",
    "    partitioned_problem.subobservables,\n",
    "    partitioned_problem.weights,\n",
    "    quasi_dists,\n",
    ")\n",
    "simulated_expvals"
   ]
  }
 ],
 "metadata": {
  "kernelspec": {
   "display_name": "Python 3 (ipykernel)",
   "language": "python",
   "name": "python3"
  },
  "language_info": {
   "codemirror_mode": {
    "name": "ipython",
    "version": 3
   },
   "file_extension": ".py",
   "mimetype": "text/x-python",
   "name": "python",
   "nbconvert_exporter": "python",
   "pygments_lexer": "ipython3",
   "version": "3.8.16"
  }
 },
 "nbformat": 4,
 "nbformat_minor": 5
}
