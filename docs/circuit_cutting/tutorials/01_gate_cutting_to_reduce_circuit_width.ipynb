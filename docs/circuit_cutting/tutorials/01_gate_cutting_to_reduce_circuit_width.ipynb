{
 "cells": [
  {
   "cell_type": "code",
   "execution_count": 1,
   "id": "1e710888",
   "metadata": {},
   "outputs": [],
   "source": [
    "import numpy as np\n",
    "from qiskit.circuit.library import EfficientSU2\n",
    "from qiskit.quantum_info import PauliList\n",
    "from qiskit_aer.primitives import Estimator, Sampler\n",
    "\n",
    "from circuit_knitting.cutting import (\n",
    "    partition_problem,\n",
    "    reconstruct_expectation_values,\n",
    ")"
   ]
  },
  {
   "cell_type": "code",
   "execution_count": 2,
   "id": "96f5b72a",
   "metadata": {},
   "outputs": [],
   "source": [
    "circuit = EfficientSU2(4, entanglement=\"linear\", reps=2).decompose()\n",
    "circuit.assign_parameters([0.8] * len(circuit.parameters), inplace=True)\n",
    "observables = PauliList([\"ZZII\", \"IZZI\", \"IIZZ\", \"XIXI\", \"ZIZZ\", \"IXIX\"])"
   ]
  },
  {
   "cell_type": "code",
   "execution_count": 3,
   "id": "30326299",
   "metadata": {},
   "outputs": [
    {
     "data": {
      "text/plain": [
       "('subcircuits', 'subexperiments', 'weights', 'bases', 'observables')"
      ]
     },
     "execution_count": 3,
     "metadata": {},
     "output_type": "execute_result"
    }
   ],
   "source": [
    "partitioned_problem = partition_problem(\n",
    "    circuit=circuit,\n",
    "    partition_labels=\"AABB\",\n",
    "    num_samples=np.inf,\n",
    "    observables=observables,\n",
    ")\n",
    "partitioned_problem._fields"
   ]
  },
  {
   "cell_type": "code",
   "execution_count": 4,
   "id": "7430eef1",
   "metadata": {},
   "outputs": [],
   "source": [
    "from circuit_knitting.utils.simulation import ExactSampler\n",
    "sampler_a = ExactSampler()\n",
    "sampler_b = ExactSampler()\n",
    "\n",
    "quasi_dists_a = (\n",
    "    sampler_a.run(partitioned_problem.subexperiments[\"A\"]).result().quasi_dists\n",
    ")\n",
    "quasi_dists_b = (\n",
    "    sampler_b.run(partitioned_problem.subexperiments[\"B\"]).result().quasi_dists\n",
    ")"
   ]
  },
  {
   "cell_type": "code",
   "execution_count": 5,
   "id": "7d57339c",
   "metadata": {},
   "outputs": [
    {
     "data": {
      "text/plain": [
       "[0.1715361328315974,\n",
       " 0.1815846003933743,\n",
       " 0.3095869136119664,\n",
       " 0.4403603630080304,\n",
       " 0.0817303685507042,\n",
       " 0.7062381543224684]"
      ]
     },
     "execution_count": 5,
     "metadata": {},
     "output_type": "execute_result"
    }
   ],
   "source": [
    "quasi_dists = {\"A\": quasi_dists_a, \"B\": quasi_dists_b}\n",
    "simulated_expvals = reconstruct_expectation_values(\n",
    "    partitioned_problem,\n",
    "    quasi_dists,\n",
    ")\n",
    "simulated_expvals"
   ]
  }
 ],
 "metadata": {
  "kernelspec": {
   "display_name": "Python 3 (ipykernel)",
   "language": "python",
   "name": "python3"
  },
  "language_info": {
   "codemirror_mode": {
    "name": "ipython",
    "version": 3
   },
   "file_extension": ".py",
   "mimetype": "text/x-python",
   "name": "python",
   "nbconvert_exporter": "python",
   "pygments_lexer": "ipython3",
   "version": "3.8.16"
  }
 },
 "nbformat": 4,
 "nbformat_minor": 5
}
