{
 "cells": [
  {
   "cell_type": "markdown",
   "id": "322fd1a8",
   "metadata": {},
   "source": [
    "## Gate cutting to reduce SWAP overhead"
   ]
  },
  {
   "cell_type": "code",
   "execution_count": 1,
   "id": "b13eee50",
   "metadata": {},
   "outputs": [],
   "source": [
    "import numpy as np\n",
    "from qiskit.circuit.library import EfficientSU2\n",
    "from qiskit.quantum_info import PauliList"
   ]
  },
  {
   "cell_type": "markdown",
   "id": "912958f7",
   "metadata": {},
   "source": [
    "Specify a circuit and some observables"
   ]
  },
  {
   "cell_type": "code",
   "execution_count": 2,
   "id": "54ed0f13",
   "metadata": {},
   "outputs": [],
   "source": [
    "circuit = EfficientSU2(num_qubits=4, entanglement=\"circular\").decompose()\n",
    "circuit.assign_parameters([0.4] * len(circuit.parameters), inplace=True)\n",
    "observables = PauliList([\"ZZII\", \"IZZI\", \"IIZZ\", \"XIXI\", \"ZIZZ\", \"IXIX\"])"
   ]
  },
  {
   "cell_type": "markdown",
   "id": "56b42711",
   "metadata": {},
   "source": [
    "Cut the long-distant gates by using ``cut_gates`` and specifying their indices. Generate the subexperiments and their weights using ``generate_cutting_experiments``."
   ]
  },
  {
   "cell_type": "code",
   "execution_count": 3,
   "id": "12e73c69",
   "metadata": {},
   "outputs": [],
   "source": [
    "from circuit_knitting.cutting import cut_gates, generate_cutting_experiments\n",
    "\n",
    "# Find the indices of the distant gates\n",
    "cut_indices = [\n",
    "    i\n",
    "    for i, instruction in enumerate(circuit.data)\n",
    "    if {circuit.find_bit(q)[0] for q in instruction.qubits} == {0, 3}\n",
    "]\n",
    "\n",
    "# Cut the long-distant gates and generate the subexperiments\n",
    "qpd_circuit, bases = cut_gates(circuit, cut_indices)\n",
    "subexperiments, weights = generate_cutting_experiments(qpd_circuit, np.inf, observables)"
   ]
  },
  {
   "cell_type": "markdown",
   "id": "c5c85d5c",
   "metadata": {},
   "source": [
    "Run the subexperiments for each partition using the Qiskit Aer Sampler primitive."
   ]
  },
  {
   "cell_type": "code",
   "execution_count": 4,
   "id": "80dd2a66",
   "metadata": {},
   "outputs": [],
   "source": [
    "from qiskit_aer.primitives import Sampler\n",
    "\n",
    "# Set up Qiskit Aer Sampler primitive.\n",
    "sampler = Sampler(run_options={\"shots\": 2**12})\n",
    "\n",
    "# Retrieve the results from each subexperiment\n",
    "results = sampler.run(subexperiments).result()"
   ]
  },
  {
   "cell_type": "markdown",
   "id": "fbd378c1",
   "metadata": {},
   "source": [
    "To run using Qiskit Runtime Sampler primitives, replace the code above with this commented block."
   ]
  },
  {
   "cell_type": "code",
   "execution_count": 5,
   "id": "09a45c17",
   "metadata": {},
   "outputs": [],
   "source": [
    "# from qiskit_ibm_runtime import Session, Options, Sampler\n",
    "\n",
    "# with Session(backend=\"<BACKEND_NAME>\") as session:\n",
    "#   options = Options()\n",
    "#   options.execution.shots = 2**12\n",
    "#   sampler = Sampler(options=options)\n",
    "#   results = sampler.run(subexperiments).result()\n",
    "\n",
    "#   session.close()\n",
    "\n",
    "# for i in range(len(subexperiments)):\n",
    "#    results.metadata[i]['num_qpd_bits'] = len(partitioned_problem.subexperiments[i].cregs[0])"
   ]
  },
  {
   "cell_type": "markdown",
   "id": "301d78f3",
   "metadata": {},
   "source": [
    "Reconstruct the full expectation value, given the results of cutting"
   ]
  },
  {
   "cell_type": "code",
   "execution_count": 6,
   "id": "ace12f7f",
   "metadata": {},
   "outputs": [
    {
     "data": {
      "text/plain": [
       "[0.5514526367187484,\n",
       " 0.5217895507812491,\n",
       " 0.416992187499999,\n",
       " -0.23541259765624933,\n",
       " 0.21868896484374958,\n",
       " -0.20617675781249947]"
      ]
     },
     "execution_count": 6,
     "metadata": {},
     "output_type": "execute_result"
    }
   ],
   "source": [
    "from circuit_knitting.cutting import reconstruct_expectation_values\n",
    "\n",
    "# Include the number of bits used for cutting measurements in the results\n",
    "for i in range(len(subexperiments)):\n",
    "    results.metadata[i][\"num_qpd_bits\"] = len(subexperiments[i].cregs[0])\n",
    "\n",
    "simulated_expvals = reconstruct_expectation_values(\n",
    "    observables,\n",
    "    weights,\n",
    "    results,\n",
    ")\n",
    "simulated_expvals"
   ]
  }
 ],
 "metadata": {
  "kernelspec": {
   "display_name": "Python 3 (ipykernel)",
   "language": "python",
   "name": "python3"
  },
  "language_info": {
   "codemirror_mode": {
    "name": "ipython",
    "version": 3
   },
   "file_extension": ".py",
   "mimetype": "text/x-python",
   "name": "python",
   "nbconvert_exporter": "python",
   "pygments_lexer": "ipython3",
   "version": "3.8.16"
  }
 },
 "nbformat": 4,
 "nbformat_minor": 5
}
